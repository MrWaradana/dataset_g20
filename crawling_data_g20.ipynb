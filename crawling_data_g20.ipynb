{
 "cells": [
  {
   "cell_type": "code",
   "execution_count": 2,
   "metadata": {},
   "outputs": [],
   "source": [
    "# install dependencies\n",
    "# %pip install --user --upgrade git+https://github.com/twintproject/twint.git@origin/master#egg=twint\n",
    "# %pip install aiohttp==3.7.0\n",
    "# %pip install nest_asyncio\n",
    "# %pip install pandas"
   ]
  },
  {
   "cell_type": "code",
   "execution_count": 1,
   "metadata": {},
   "outputs": [],
   "source": [
    "# Import Libraries\n",
    "import twint\n",
    "import nest_asyncio\n",
    "nest_asyncio.apply()\n",
    "import time\n",
    "import pandas as pd\n",
    "import os\n",
    "import re\n",
    "timestr = time.strftime(\"%Y%m%d\")"
   ]
  },
  {
   "cell_type": "code",
   "execution_count": 6,
   "metadata": {},
   "outputs": [],
   "source": [
    "#configuration\n",
    "c = twint.Config()   \n",
    "c.Limit = 2000       \n",
    "c.Lang = \"id\" # Language\n",
    "c.Since = \"2021-01-01\"\n",
    "c.Until = \"2022-10-02\"\n",
    "c.Hide_output = True\n",
    "c.Store_csv = True\n",
    "c.Search = \"KTT G20\"  # key words to look for.\n",
    "# c.Output = timestr + \"_id_g20.csv\"\n",
    "c.Pandas = True\n",
    "c.Debug = True"
   ]
  },
  {
   "cell_type": "code",
   "execution_count": 7,
   "metadata": {},
   "outputs": [
    {
     "name": "stdout",
     "output_type": "stream",
     "text": [
      "Start crawling\n",
      "[!] No more data! Scraping will stop now.\n",
      "found 0 deleted tweets in this search.\n",
      "Finished\n",
      "-------\n",
      "CPU times: total: 844 ms\n",
      "Wall time: 53.1 s\n"
     ]
    }
   ],
   "source": [
    "%%time\n",
    "\n",
    "try:\n",
    "  print(\"Start crawling\")\n",
    "\n",
    "  # Start crawling\n",
    "  twint.run.Search(c)\n",
    "  # convert output to dataframe format\n",
    "  data = twint.output.panda.Tweets_df[['date', 'username', 'tweet']]\n",
    "except Exception as e:\n",
    "  print(e)\n",
    "\n",
    "print(\"Finished\")\n",
    "print(\"-------\")"
   ]
  },
  {
   "cell_type": "code",
   "execution_count": 8,
   "metadata": {},
   "outputs": [
    {
     "data": {
      "text/html": [
       "<div>\n",
       "<style scoped>\n",
       "    .dataframe tbody tr th:only-of-type {\n",
       "        vertical-align: middle;\n",
       "    }\n",
       "\n",
       "    .dataframe tbody tr th {\n",
       "        vertical-align: top;\n",
       "    }\n",
       "\n",
       "    .dataframe thead th {\n",
       "        text-align: right;\n",
       "    }\n",
       "</style>\n",
       "<table border=\"1\" class=\"dataframe\">\n",
       "  <thead>\n",
       "    <tr style=\"text-align: right;\">\n",
       "      <th></th>\n",
       "      <th>date</th>\n",
       "      <th>username</th>\n",
       "      <th>tweet</th>\n",
       "    </tr>\n",
       "  </thead>\n",
       "  <tbody>\n",
       "    <tr>\n",
       "      <th>0</th>\n",
       "      <td>2022-10-02 06:41:07</td>\n",
       "      <td>nolantv_berita</td>\n",
       "      <td>Menhub pastikan kesiapan kereta cepat jelang g...</td>\n",
       "    </tr>\n",
       "    <tr>\n",
       "      <th>1</th>\n",
       "      <td>2022-10-02 06:28:04</td>\n",
       "      <td>Antara_Jabar</td>\n",
       "      <td>Menhub pastikan kesiapan kereta cepat di Bandu...</td>\n",
       "    </tr>\n",
       "    <tr>\n",
       "      <th>2</th>\n",
       "      <td>2022-10-02 05:29:02</td>\n",
       "      <td>wartamasa</td>\n",
       "      <td>KRYD di Blahbatuh, Dukung  Pengamanan KTT G20 ...</td>\n",
       "    </tr>\n",
       "    <tr>\n",
       "      <th>3</th>\n",
       "      <td>2022-10-02 01:30:00</td>\n",
       "      <td>ElshintaTegal_</td>\n",
       "      <td>BMKG sudah siapkan rencana kontingensi bencana...</td>\n",
       "    </tr>\n",
       "    <tr>\n",
       "      <th>4</th>\n",
       "      <td>2022-10-01 23:27:43</td>\n",
       "      <td>sabhatansabiz</td>\n",
       "      <td>Menhub pastikan kesiapan kereta cepat jelang g...</td>\n",
       "    </tr>\n",
       "    <tr>\n",
       "      <th>...</th>\n",
       "      <td>...</td>\n",
       "      <td>...</td>\n",
       "      <td>...</td>\n",
       "    </tr>\n",
       "    <tr>\n",
       "      <th>1332</th>\n",
       "      <td>2022-09-28 09:42:51</td>\n",
       "      <td>AndiniThresia</td>\n",
       "      <td>Kepulauan Riau dukung KTT G20 #G20Indonesia #R...</td>\n",
       "    </tr>\n",
       "    <tr>\n",
       "      <th>1333</th>\n",
       "      <td>2022-09-28 09:42:28</td>\n",
       "      <td>RadenSumbu</td>\n",
       "      <td>Bersama Parekraf di Bali kita sukseskan KTT G2...</td>\n",
       "    </tr>\n",
       "    <tr>\n",
       "      <th>1334</th>\n",
       "      <td>2022-09-28 09:42:18</td>\n",
       "      <td>AndiniThresia</td>\n",
       "      <td>Kepulauan Riau dukung KTT G20 #G20Indonesia #R...</td>\n",
       "    </tr>\n",
       "    <tr>\n",
       "      <th>1335</th>\n",
       "      <td>2022-09-28 09:42:18</td>\n",
       "      <td>RFatwala</td>\n",
       "      <td>Tinjau Venue KTT G20, wapres harapkan pelayana...</td>\n",
       "    </tr>\n",
       "    <tr>\n",
       "      <th>1336</th>\n",
       "      <td>2022-09-28 09:41:52</td>\n",
       "      <td>RFatwala</td>\n",
       "      <td>Berbagai fasilitas kesehatan disiapkan di hote...</td>\n",
       "    </tr>\n",
       "  </tbody>\n",
       "</table>\n",
       "<p>1337 rows × 3 columns</p>\n",
       "</div>"
      ],
      "text/plain": [
       "                     date        username  \\\n",
       "0     2022-10-02 06:41:07  nolantv_berita   \n",
       "1     2022-10-02 06:28:04    Antara_Jabar   \n",
       "2     2022-10-02 05:29:02       wartamasa   \n",
       "3     2022-10-02 01:30:00  ElshintaTegal_   \n",
       "4     2022-10-01 23:27:43   sabhatansabiz   \n",
       "...                   ...             ...   \n",
       "1332  2022-09-28 09:42:51   AndiniThresia   \n",
       "1333  2022-09-28 09:42:28      RadenSumbu   \n",
       "1334  2022-09-28 09:42:18   AndiniThresia   \n",
       "1335  2022-09-28 09:42:18        RFatwala   \n",
       "1336  2022-09-28 09:41:52        RFatwala   \n",
       "\n",
       "                                                  tweet  \n",
       "0     Menhub pastikan kesiapan kereta cepat jelang g...  \n",
       "1     Menhub pastikan kesiapan kereta cepat di Bandu...  \n",
       "2     KRYD di Blahbatuh, Dukung  Pengamanan KTT G20 ...  \n",
       "3     BMKG sudah siapkan rencana kontingensi bencana...  \n",
       "4     Menhub pastikan kesiapan kereta cepat jelang g...  \n",
       "...                                                 ...  \n",
       "1332  Kepulauan Riau dukung KTT G20 #G20Indonesia #R...  \n",
       "1333  Bersama Parekraf di Bali kita sukseskan KTT G2...  \n",
       "1334  Kepulauan Riau dukung KTT G20 #G20Indonesia #R...  \n",
       "1335  Tinjau Venue KTT G20, wapres harapkan pelayana...  \n",
       "1336  Berbagai fasilitas kesehatan disiapkan di hote...  \n",
       "\n",
       "[1337 rows x 3 columns]"
      ]
     },
     "execution_count": 8,
     "metadata": {},
     "output_type": "execute_result"
    }
   ],
   "source": [
    "# menampilkan dataframe\n",
    "data"
   ]
  },
  {
   "cell_type": "code",
   "execution_count": 5,
   "metadata": {},
   "outputs": [],
   "source": [
    "# convert to CSV & Excel\n",
    "data.to_csv('data_raw_ktt_g20.csv', index = False)\n",
    "# data.to_excel(r'data_raw_g20.xlsx', index = False)"
   ]
  }
 ],
 "metadata": {
  "kernelspec": {
   "display_name": "Python 3.9.6 64-bit",
   "language": "python",
   "name": "python3"
  },
  "language_info": {
   "codemirror_mode": {
    "name": "ipython",
    "version": 3
   },
   "file_extension": ".py",
   "mimetype": "text/x-python",
   "name": "python",
   "nbconvert_exporter": "python",
   "pygments_lexer": "ipython3",
   "version": "3.9.6"
  },
  "orig_nbformat": 4,
  "vscode": {
   "interpreter": {
    "hash": "81794d4967e6c3204c66dcd87b604927b115b27c00565d3d43f05ba2f3a2cb0d"
   }
  }
 },
 "nbformat": 4,
 "nbformat_minor": 2
}
