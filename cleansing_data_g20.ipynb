{
 "cells": [
  {
   "cell_type": "code",
   "execution_count": 1,
   "metadata": {},
   "outputs": [],
   "source": [
    "import pandas as pd\n",
    "import emoji\n",
    "import contractions\n",
    "import re"
   ]
  },
  {
   "cell_type": "code",
   "execution_count": 15,
   "metadata": {},
   "outputs": [],
   "source": [
    "def cleansing(tweet) :\n",
    "    # Replace RT tag\n",
    "    t1 = re.sub('RT\\s', '', tweet)\n",
    "    # Replace @_username\n",
    "    t2 = re.sub('\\B@\\w+', '', t1)\n",
    "    # Replace emojis with text\n",
    "    t3 = emoji.demojize(t2)\n",
    "    # Replace URL (http:// or https://)\n",
    "    t4 = re.sub('(http|https):\\/\\/\\S+', '', t3)\n",
    "    # Replace #_something_\n",
    "    t5 = re.sub('#+', '', t4)\n",
    "    # Lower case each Letter\n",
    "    t6 = t5.lower() \n",
    "    # Replace word repetition with a single Bccurance ('oooooo' becomse 'oo')\n",
    "    t7 = re.sub(r'(.)\\1+', r'\\1\\1', t6)\n",
    "    # Replace punctuation repetition with a single occurance ('!!!!!!!!!' becomes '!')\n",
    "    t8 = re.sub(r'[\\?\\.\\!]+(?=[\\?.\\!])', '', t7)\n",
    "    # Alphabet only, exclude numbers and special characters\n",
    "    # t9 = re.sub('[^a-zA-Z]', ' ', t8)\n",
    "    # Replace contractions with their extended forms\n",
    "    t9 = contractions.fix(t8)\n",
    "    return t9"
   ]
  },
  {
   "cell_type": "code",
   "execution_count": 16,
   "metadata": {},
   "outputs": [
    {
     "data": {
      "text/html": [
       "<div>\n",
       "<style scoped>\n",
       "    .dataframe tbody tr th:only-of-type {\n",
       "        vertical-align: middle;\n",
       "    }\n",
       "\n",
       "    .dataframe tbody tr th {\n",
       "        vertical-align: top;\n",
       "    }\n",
       "\n",
       "    .dataframe thead th {\n",
       "        text-align: right;\n",
       "    }\n",
       "</style>\n",
       "<table border=\"1\" class=\"dataframe\">\n",
       "  <thead>\n",
       "    <tr style=\"text-align: right;\">\n",
       "      <th></th>\n",
       "      <th>date</th>\n",
       "      <th>username</th>\n",
       "      <th>tweet</th>\n",
       "    </tr>\n",
       "  </thead>\n",
       "  <tbody>\n",
       "    <tr>\n",
       "      <th>0</th>\n",
       "      <td>2022-10-02 06:00:00</td>\n",
       "      <td>orfonline</td>\n",
       "      <td>The importance of #infrastructure required for...</td>\n",
       "    </tr>\n",
       "    <tr>\n",
       "      <th>1</th>\n",
       "      <td>2022-10-02 04:30:00</td>\n",
       "      <td>ORFMumbai</td>\n",
       "      <td>The importance of #infrastructure required for...</td>\n",
       "    </tr>\n",
       "    <tr>\n",
       "      <th>2</th>\n",
       "      <td>2022-10-02 03:48:38</td>\n",
       "      <td>AlanAbdo13</td>\n",
       "      <td>Ukraine has urged Australia to be a part of a ...</td>\n",
       "    </tr>\n",
       "    <tr>\n",
       "      <th>3</th>\n",
       "      <td>2022-10-02 02:52:15</td>\n",
       "      <td>HerculesGuy1</td>\n",
       "      <td>@d2fl @GN1913 @KamVTV White House adviser Ivan...</td>\n",
       "    </tr>\n",
       "    <tr>\n",
       "      <th>4</th>\n",
       "      <td>2022-10-02 01:57:30</td>\n",
       "      <td>horbra7</td>\n",
       "      <td>Trump and Putin meet at  #g20 summit #shorts #...</td>\n",
       "    </tr>\n",
       "  </tbody>\n",
       "</table>\n",
       "</div>"
      ],
      "text/plain": [
       "                  date      username  \\\n",
       "0  2022-10-02 06:00:00     orfonline   \n",
       "1  2022-10-02 04:30:00     ORFMumbai   \n",
       "2  2022-10-02 03:48:38    AlanAbdo13   \n",
       "3  2022-10-02 02:52:15  HerculesGuy1   \n",
       "4  2022-10-02 01:57:30       horbra7   \n",
       "\n",
       "                                               tweet  \n",
       "0  The importance of #infrastructure required for...  \n",
       "1  The importance of #infrastructure required for...  \n",
       "2  Ukraine has urged Australia to be a part of a ...  \n",
       "3  @d2fl @GN1913 @KamVTV White House adviser Ivan...  \n",
       "4  Trump and Putin meet at  #g20 summit #shorts #...  "
      ]
     },
     "execution_count": 16,
     "metadata": {},
     "output_type": "execute_result"
    }
   ],
   "source": [
    "df = pd.read_csv('data_raw_g20.csv', usecols=['date', 'username', 'tweet'])\n",
    "df.head()\n"
   ]
  },
  {
   "cell_type": "code",
   "execution_count": 17,
   "metadata": {},
   "outputs": [
    {
     "data": {
      "text/html": [
       "<div>\n",
       "<style scoped>\n",
       "    .dataframe tbody tr th:only-of-type {\n",
       "        vertical-align: middle;\n",
       "    }\n",
       "\n",
       "    .dataframe tbody tr th {\n",
       "        vertical-align: top;\n",
       "    }\n",
       "\n",
       "    .dataframe thead th {\n",
       "        text-align: right;\n",
       "    }\n",
       "</style>\n",
       "<table border=\"1\" class=\"dataframe\">\n",
       "  <thead>\n",
       "    <tr style=\"text-align: right;\">\n",
       "      <th></th>\n",
       "      <th>date</th>\n",
       "      <th>username</th>\n",
       "      <th>tweet</th>\n",
       "    </tr>\n",
       "  </thead>\n",
       "  <tbody>\n",
       "    <tr>\n",
       "      <th>0</th>\n",
       "      <td>2022-10-02 06:00:00</td>\n",
       "      <td>orfonline</td>\n",
       "      <td>the importance of infrastructure required for ...</td>\n",
       "    </tr>\n",
       "    <tr>\n",
       "      <th>1</th>\n",
       "      <td>2022-10-02 04:30:00</td>\n",
       "      <td>ORFMumbai</td>\n",
       "      <td>the importance of infrastructure required for ...</td>\n",
       "    </tr>\n",
       "    <tr>\n",
       "      <th>2</th>\n",
       "      <td>2022-10-02 03:48:38</td>\n",
       "      <td>AlanAbdo13</td>\n",
       "      <td>ukraine has urged australia to be a part of a ...</td>\n",
       "    </tr>\n",
       "    <tr>\n",
       "      <th>3</th>\n",
       "      <td>2022-10-02 02:52:15</td>\n",
       "      <td>HerculesGuy1</td>\n",
       "      <td>white house adviser ivanka trump was present...</td>\n",
       "    </tr>\n",
       "    <tr>\n",
       "      <th>4</th>\n",
       "      <td>2022-10-02 01:57:30</td>\n",
       "      <td>horbra7</td>\n",
       "      <td>trump and putin meet at  g20 summit shorts wha...</td>\n",
       "    </tr>\n",
       "  </tbody>\n",
       "</table>\n",
       "</div>"
      ],
      "text/plain": [
       "                  date      username  \\\n",
       "0  2022-10-02 06:00:00     orfonline   \n",
       "1  2022-10-02 04:30:00     ORFMumbai   \n",
       "2  2022-10-02 03:48:38    AlanAbdo13   \n",
       "3  2022-10-02 02:52:15  HerculesGuy1   \n",
       "4  2022-10-02 01:57:30       horbra7   \n",
       "\n",
       "                                               tweet  \n",
       "0  the importance of infrastructure required for ...  \n",
       "1  the importance of infrastructure required for ...  \n",
       "2  ukraine has urged australia to be a part of a ...  \n",
       "3    white house adviser ivanka trump was present...  \n",
       "4  trump and putin meet at  g20 summit shorts wha...  "
      ]
     },
     "execution_count": 17,
     "metadata": {},
     "output_type": "execute_result"
    }
   ],
   "source": [
    "for i, r in df.iterrows():\n",
    "    y = cleansing(r['tweet'])\n",
    "    df.loc[i, 'tweet'] = y\n",
    "\n",
    "df['tweet'] = df['tweet'].replace(r'http\\S+', '', regex=True).replace(r'www\\S+', '', regex=True)\n",
    "df['tweet'] = df['tweet'].replace(r'@\\S+', '', regex=True)\n",
    "\n",
    "df.head()"
   ]
  },
  {
   "cell_type": "code",
   "execution_count": 18,
   "metadata": {},
   "outputs": [],
   "source": [
    "df.to_csv('data_cleansed_g20.csv', index=False)"
   ]
  }
 ],
 "metadata": {
  "kernelspec": {
   "display_name": "Python 3.9.6 64-bit",
   "language": "python",
   "name": "python3"
  },
  "language_info": {
   "codemirror_mode": {
    "name": "ipython",
    "version": 3
   },
   "file_extension": ".py",
   "mimetype": "text/x-python",
   "name": "python",
   "nbconvert_exporter": "python",
   "pygments_lexer": "ipython3",
   "version": "3.9.6"
  },
  "orig_nbformat": 4,
  "vscode": {
   "interpreter": {
    "hash": "81794d4967e6c3204c66dcd87b604927b115b27c00565d3d43f05ba2f3a2cb0d"
   }
  }
 },
 "nbformat": 4,
 "nbformat_minor": 2
}
