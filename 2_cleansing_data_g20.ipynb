{
 "cells": [
  {
   "cell_type": "markdown",
   "metadata": {},
   "source": [
    "Install Libraries"
   ]
  },
  {
   "cell_type": "code",
   "execution_count": 1,
   "metadata": {},
   "outputs": [],
   "source": [
    "import pandas as pd\n",
    "import emoji\n",
    "import contractions\n",
    "import re"
   ]
  },
  {
   "cell_type": "markdown",
   "metadata": {},
   "source": [
    "Menghilangkan karakter yang tidak dibutuhkan"
   ]
  },
  {
   "cell_type": "code",
   "execution_count": 2,
   "metadata": {},
   "outputs": [],
   "source": [
    "def cleansing(tweet) :\n",
    "    # Replace RT tag\n",
    "    t1 = re.sub('RT\\s', '', tweet)\n",
    "    # Replace @_username\n",
    "    t2 = re.sub('\\B@\\w+', '', t1)\n",
    "    # Replace emojis with text\n",
    "    t3 = emoji.demojize(t2)\n",
    "    # Replace URL (http:// or https://)\n",
    "    t4 = re.sub('(http|https):\\/\\/\\S+', '', t3)\n",
    "    # Replace #_something_\n",
    "    t5 = re.sub('#+', '', t4)\n",
    "    # Lower case each Letter\n",
    "    t6 = t5.lower() \n",
    "    # Replace word repetition with a single Bccurance ('oooooo' becomse 'oo')\n",
    "    t7 = re.sub(r'(.)\\1+', r'\\1\\1', t6)\n",
    "    # Replace punctuation repetition with a single occurance ('!!!!!!!!!' becomes '!')\n",
    "    t8 = re.sub(r'[\\?\\.\\!]+(?=[\\?.\\!])', '', t7)\n",
    "    # Alphabet only, exclude special characters\n",
    "    t9 = re.sub('[^a-zA-Z0-9]', ' ', t8)\n",
    "    # Replace contractions with their extended forms\n",
    "    t10 = contractions.fix(t9)\n",
    "    return t10"
   ]
  },
  {
   "cell_type": "markdown",
   "metadata": {},
   "source": [
    "Mengambil data raw dari crawling twitter"
   ]
  },
  {
   "cell_type": "code",
   "execution_count": 3,
   "metadata": {},
   "outputs": [
    {
     "data": {
      "text/html": [
       "<div>\n",
       "<style scoped>\n",
       "    .dataframe tbody tr th:only-of-type {\n",
       "        vertical-align: middle;\n",
       "    }\n",
       "\n",
       "    .dataframe tbody tr th {\n",
       "        vertical-align: top;\n",
       "    }\n",
       "\n",
       "    .dataframe thead th {\n",
       "        text-align: right;\n",
       "    }\n",
       "</style>\n",
       "<table border=\"1\" class=\"dataframe\">\n",
       "  <thead>\n",
       "    <tr style=\"text-align: right;\">\n",
       "      <th></th>\n",
       "      <th>date</th>\n",
       "      <th>username</th>\n",
       "      <th>tweet</th>\n",
       "    </tr>\n",
       "  </thead>\n",
       "  <tbody>\n",
       "    <tr>\n",
       "      <th>0</th>\n",
       "      <td>2022-10-05 12:21:14</td>\n",
       "      <td>jeslintuse2</td>\n",
       "      <td>Nusa Tenggara Timur Pemerintah Pastikan Semua ...</td>\n",
       "    </tr>\n",
       "    <tr>\n",
       "      <th>1</th>\n",
       "      <td>2022-10-05 12:17:55</td>\n",
       "      <td>usharanimuni</td>\n",
       "      <td>Pemerintah pastikan hotel di Bali siap sambut ...</td>\n",
       "    </tr>\n",
       "    <tr>\n",
       "      <th>2</th>\n",
       "      <td>2022-10-05 12:13:03</td>\n",
       "      <td>diaharmayanti1</td>\n",
       "      <td>Pemerintah pastikan hotel di bali siap sambut ...</td>\n",
       "    </tr>\n",
       "    <tr>\n",
       "      <th>3</th>\n",
       "      <td>2022-10-05 12:12:31</td>\n",
       "      <td>SeptianiMestika</td>\n",
       "      <td>Bali Compendium akan dibawa Indonesia ke KTT G...</td>\n",
       "    </tr>\n",
       "    <tr>\n",
       "      <th>4</th>\n",
       "      <td>2022-10-05 12:11:59</td>\n",
       "      <td>diaharmayanti1</td>\n",
       "      <td>Kesiapan jaringan telekomunikasi indonesia men...</td>\n",
       "    </tr>\n",
       "  </tbody>\n",
       "</table>\n",
       "</div>"
      ],
      "text/plain": [
       "                  date         username  \\\n",
       "0  2022-10-05 12:21:14      jeslintuse2   \n",
       "1  2022-10-05 12:17:55     usharanimuni   \n",
       "2  2022-10-05 12:13:03   diaharmayanti1   \n",
       "3  2022-10-05 12:12:31  SeptianiMestika   \n",
       "4  2022-10-05 12:11:59   diaharmayanti1   \n",
       "\n",
       "                                               tweet  \n",
       "0  Nusa Tenggara Timur Pemerintah Pastikan Semua ...  \n",
       "1  Pemerintah pastikan hotel di Bali siap sambut ...  \n",
       "2  Pemerintah pastikan hotel di bali siap sambut ...  \n",
       "3  Bali Compendium akan dibawa Indonesia ke KTT G...  \n",
       "4  Kesiapan jaringan telekomunikasi indonesia men...  "
      ]
     },
     "execution_count": 3,
     "metadata": {},
     "output_type": "execute_result"
    }
   ],
   "source": [
    "df = pd.read_csv('data_raw_g20.csv', usecols=['date', 'username', 'tweet'])\n",
    "df.head()\n"
   ]
  },
  {
   "cell_type": "markdown",
   "metadata": {},
   "source": [
    "Menghilangkan simbol https, dan tag @"
   ]
  },
  {
   "cell_type": "code",
   "execution_count": 4,
   "metadata": {},
   "outputs": [
    {
     "data": {
      "text/html": [
       "<div>\n",
       "<style scoped>\n",
       "    .dataframe tbody tr th:only-of-type {\n",
       "        vertical-align: middle;\n",
       "    }\n",
       "\n",
       "    .dataframe tbody tr th {\n",
       "        vertical-align: top;\n",
       "    }\n",
       "\n",
       "    .dataframe thead th {\n",
       "        text-align: right;\n",
       "    }\n",
       "</style>\n",
       "<table border=\"1\" class=\"dataframe\">\n",
       "  <thead>\n",
       "    <tr style=\"text-align: right;\">\n",
       "      <th></th>\n",
       "      <th>date</th>\n",
       "      <th>username</th>\n",
       "      <th>tweet</th>\n",
       "    </tr>\n",
       "  </thead>\n",
       "  <tbody>\n",
       "    <tr>\n",
       "      <th>0</th>\n",
       "      <td>2022-10-05 12:21:14</td>\n",
       "      <td>jeslintuse2</td>\n",
       "      <td>nusa tenggara timur pemerintah pastikan semua ...</td>\n",
       "    </tr>\n",
       "    <tr>\n",
       "      <th>1</th>\n",
       "      <td>2022-10-05 12:17:55</td>\n",
       "      <td>usharanimuni</td>\n",
       "      <td>pemerintah pastikan hotel di bali siap sambut ...</td>\n",
       "    </tr>\n",
       "    <tr>\n",
       "      <th>2</th>\n",
       "      <td>2022-10-05 12:13:03</td>\n",
       "      <td>diaharmayanti1</td>\n",
       "      <td>pemerintah pastikan hotel di bali siap sambut ...</td>\n",
       "    </tr>\n",
       "    <tr>\n",
       "      <th>3</th>\n",
       "      <td>2022-10-05 12:12:31</td>\n",
       "      <td>SeptianiMestika</td>\n",
       "      <td>bali compendium akan dibawa indonesia ke ktt g...</td>\n",
       "    </tr>\n",
       "    <tr>\n",
       "      <th>4</th>\n",
       "      <td>2022-10-05 12:11:59</td>\n",
       "      <td>diaharmayanti1</td>\n",
       "      <td>kesiapan jaringan telekomunikasi indonesia men...</td>\n",
       "    </tr>\n",
       "  </tbody>\n",
       "</table>\n",
       "</div>"
      ],
      "text/plain": [
       "                  date         username  \\\n",
       "0  2022-10-05 12:21:14      jeslintuse2   \n",
       "1  2022-10-05 12:17:55     usharanimuni   \n",
       "2  2022-10-05 12:13:03   diaharmayanti1   \n",
       "3  2022-10-05 12:12:31  SeptianiMestika   \n",
       "4  2022-10-05 12:11:59   diaharmayanti1   \n",
       "\n",
       "                                               tweet  \n",
       "0  nusa tenggara timur pemerintah pastikan semua ...  \n",
       "1  pemerintah pastikan hotel di bali siap sambut ...  \n",
       "2  pemerintah pastikan hotel di bali siap sambut ...  \n",
       "3  bali compendium akan dibawa indonesia ke ktt g...  \n",
       "4  kesiapan jaringan telekomunikasi indonesia men...  "
      ]
     },
     "execution_count": 4,
     "metadata": {},
     "output_type": "execute_result"
    }
   ],
   "source": [
    "for i, r in df.iterrows():\n",
    "    y = cleansing(r['tweet'])\n",
    "    df.loc[i, 'tweet'] = y\n",
    "\n",
    "df['tweet'] = df['tweet'].replace(r'http\\S+', '', regex=True).replace(r'www\\S+', '', regex=True)\n",
    "df['tweet'] = df['tweet'].replace(r'@\\S+', '', regex=True)\n",
    "\n",
    "df.head()"
   ]
  },
  {
   "cell_type": "markdown",
   "metadata": {},
   "source": [
    "Export hasil cleansing ke csv"
   ]
  },
  {
   "cell_type": "code",
   "execution_count": 27,
   "metadata": {},
   "outputs": [],
   "source": [
    "df.to_csv('data_cleansed_g20.csv', index=False)"
   ]
  }
 ],
 "metadata": {
  "kernelspec": {
   "display_name": "Python 3.9.6 64-bit",
   "language": "python",
   "name": "python3"
  },
  "language_info": {
   "codemirror_mode": {
    "name": "ipython",
    "version": 3
   },
   "file_extension": ".py",
   "mimetype": "text/x-python",
   "name": "python",
   "nbconvert_exporter": "python",
   "pygments_lexer": "ipython3",
   "version": "3.9.6"
  },
  "orig_nbformat": 4,
  "vscode": {
   "interpreter": {
    "hash": "81794d4967e6c3204c66dcd87b604927b115b27c00565d3d43f05ba2f3a2cb0d"
   }
  }
 },
 "nbformat": 4,
 "nbformat_minor": 2
}
