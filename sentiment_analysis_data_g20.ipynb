{
 "cells": [
  {
   "cell_type": "code",
   "execution_count": 4,
   "metadata": {},
   "outputs": [],
   "source": [
    "from textblob import TextBlob\n",
    "import pandas as pd"
   ]
  },
  {
   "cell_type": "code",
   "execution_count": 9,
   "metadata": {},
   "outputs": [],
   "source": [
    "from textblob import TextBlob\n",
    "\n",
    "def getSubjectivity(review) :\n",
    "    return TextBlob(review).sentiment.subjectivity\n",
    "\n",
    "def getPolarity(review) :\n",
    "    return TextBlob(review).sentiment.polarity\n",
    "\n",
    "def analyze(score):\n",
    "    if score < 0:\n",
    "        return 'Negative'\n",
    "    elif score == 0:\n",
    "        return 'Neutral'\n",
    "    else:\n",
    "        return 'Positive'"
   ]
  },
  {
   "cell_type": "code",
   "execution_count": 10,
   "metadata": {},
   "outputs": [
    {
     "data": {
      "text/html": [
       "<div>\n",
       "<style scoped>\n",
       "    .dataframe tbody tr th:only-of-type {\n",
       "        vertical-align: middle;\n",
       "    }\n",
       "\n",
       "    .dataframe tbody tr th {\n",
       "        vertical-align: top;\n",
       "    }\n",
       "\n",
       "    .dataframe thead th {\n",
       "        text-align: right;\n",
       "    }\n",
       "</style>\n",
       "<table border=\"1\" class=\"dataframe\">\n",
       "  <thead>\n",
       "    <tr style=\"text-align: right;\">\n",
       "      <th></th>\n",
       "      <th>date</th>\n",
       "      <th>username</th>\n",
       "      <th>tweet</th>\n",
       "    </tr>\n",
       "  </thead>\n",
       "  <tbody>\n",
       "    <tr>\n",
       "      <th>0</th>\n",
       "      <td>2022-10-02 06:00:00</td>\n",
       "      <td>orfonline</td>\n",
       "      <td>the importance of infrastructure required for ...</td>\n",
       "    </tr>\n",
       "    <tr>\n",
       "      <th>1</th>\n",
       "      <td>2022-10-02 04:30:00</td>\n",
       "      <td>ORFMumbai</td>\n",
       "      <td>the importance of infrastructure required for ...</td>\n",
       "    </tr>\n",
       "    <tr>\n",
       "      <th>2</th>\n",
       "      <td>2022-10-02 03:48:38</td>\n",
       "      <td>AlanAbdo13</td>\n",
       "      <td>ukraine has urged australia tapi be a part of ...</td>\n",
       "    </tr>\n",
       "    <tr>\n",
       "      <th>3</th>\n",
       "      <td>2022-10-02 02:52:15</td>\n",
       "      <td>HerculesGuy1</td>\n",
       "      <td>white house adviser ivanka trump was present a...</td>\n",
       "    </tr>\n",
       "    <tr>\n",
       "      <th>4</th>\n",
       "      <td>2022-10-02 01:57:30</td>\n",
       "      <td>horbra7</td>\n",
       "      <td>trump and putin meet at g20 summit shorts what...</td>\n",
       "    </tr>\n",
       "  </tbody>\n",
       "</table>\n",
       "</div>"
      ],
      "text/plain": [
       "                  date      username  \\\n",
       "0  2022-10-02 06:00:00     orfonline   \n",
       "1  2022-10-02 04:30:00     ORFMumbai   \n",
       "2  2022-10-02 03:48:38    AlanAbdo13   \n",
       "3  2022-10-02 02:52:15  HerculesGuy1   \n",
       "4  2022-10-02 01:57:30       horbra7   \n",
       "\n",
       "                                               tweet  \n",
       "0  the importance of infrastructure required for ...  \n",
       "1  the importance of infrastructure required for ...  \n",
       "2  ukraine has urged australia tapi be a part of ...  \n",
       "3  white house adviser ivanka trump was present a...  \n",
       "4  trump and putin meet at g20 summit shorts what...  "
      ]
     },
     "execution_count": 10,
     "metadata": {},
     "output_type": "execute_result"
    }
   ],
   "source": [
    "df = pd.read_csv('processed_data_g20.csv')\n",
    "df.head()\n",
    "\n",
    "final_data = pd.DataFrame(df[['date', 'username', 'tweet']])\n",
    "final_data.head()"
   ]
  },
  {
   "cell_type": "code",
   "execution_count": 22,
   "metadata": {},
   "outputs": [],
   "source": [
    "final_data[ 'Subjectivity'] = final_data['tweet'].apply(getSubjectivity)\n",
    "final_data['Polarity'] = final_data['tweet'].apply(getPolarity)\n",
    "final_data['TextBlob'] = final_data['Polarity'].apply(analyze)\n",
    "final_data.head()\n",
    "\n",
    "final_data.to_csv('sentiment_analysis_data_g20.csv', index=False)"
   ]
  },
  {
   "cell_type": "code",
   "execution_count": 19,
   "metadata": {},
   "outputs": [
    {
     "data": {
      "text/plain": [
       "Positive    87\n",
       "Neutral     84\n",
       "Negative    15\n",
       "Name: TextBlob, dtype: int64"
      ]
     },
     "execution_count": 19,
     "metadata": {},
     "output_type": "execute_result"
    }
   ],
   "source": [
    "tb_counts = final_data.TextBlob.value_counts()\n",
    "tb_counts"
   ]
  },
  {
   "cell_type": "code",
   "execution_count": 21,
   "metadata": {},
   "outputs": [
    {
     "data": {
      "text/plain": [
       "([<matplotlib.patches.Wedge at 0x1e905e9b1f0>,\n",
       "  <matplotlib.patches.Wedge at 0x1e905e9b880>,\n",
       "  <matplotlib.patches.Wedge at 0x1e905e9be20>],\n",
       " [Text(0.11128515088098115, 1.0943562560671902, 'Positive'),\n",
       "  Text(-0.382035815514551, -1.031527331515812, 'Neutral'),\n",
       "  Text(1.306904081342823, -0.33838103104262784, 'Negative')],\n",
       " [Text(0.06070099138962608, 0.5969215942184672, '46.8%'),\n",
       "  Text(-0.208383172098846, -0.5626512717358975, '45.2%'),\n",
       "  Text(0.8228655326973331, -0.21305472324906194, '8.1%')])"
      ]
     },
     "execution_count": 21,
     "metadata": {},
     "output_type": "execute_result"
    },
    {
     "data": {
      "image/png": "[encoded data removed]",
      "text/plain": [
       "<Figure size 1000x700 with 1 Axes>"
      ]
     },
     "metadata": {},
     "output_type": "display_data"
    }
   ],
   "source": [
    "import matplotlib.pyplot as plt\n",
    "%matplotlib inline\n",
    "\n",
    "plt.figure(figsize=(10, 7))\n",
    "plt.pie(tb_counts.values, labels=tb_counts.index, explode=(0,0,0.25), autopct='%1.1f%%', shadow=False)\n"
   ]
  }
 ],
 "metadata": {
  "kernelspec": {
   "display_name": "Python 3.9.6 64-bit",
   "language": "python",
   "name": "python3"
  },
  "language_info": {
   "codemirror_mode": {
    "name": "ipython",
    "version": 3
   },
   "file_extension": ".py",
   "mimetype": "text/x-python",
   "name": "python",
   "nbconvert_exporter": "python",
   "pygments_lexer": "ipython3",
   "version": "3.9.6"
  },
  "orig_nbformat": 4,
  "vscode": {
   "interpreter": {
    "hash": "81794d4967e6c3204c66dcd87b604927b115b27c00565d3d43f05ba2f3a2cb0d"
   }
  }
 },
 "nbformat": 4,
 "nbformat_minor": 2
}
